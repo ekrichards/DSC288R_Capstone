{
  "cells": [
    {
      "cell_type": "code",
      "execution_count": 1,
      "metadata": {
        "id": "G08rSx4KEeiF"
      },
      "outputs": [],
      "source": [
        "import pandas as pd\n",
        "import numpy as np\n",
        "import matplotlib.pyplot as plt\n",
        "import seaborn as sns\n",
        "from sklearn.preprocessing import MinMaxScaler, LabelEncoder, OneHotEncoder\n",
        "from sklearn.ensemble import RandomForestClassifier\n",
        "from sklearn.model_selection import train_test_split\n",
        "from sklearn.metrics import classification_report, accuracy_score\n",
        "from scipy.stats import ttest_ind, chi2_contingency, normaltest"
      ]
    },
    {
      "cell_type": "markdown",
      "source": [
        "2018 Data"
      ],
      "metadata": {
        "id": "HXsilzFMO8EO"
      }
    },
    {
      "cell_type": "code",
      "execution_count": null,
      "metadata": {
        "id": "V3RcN2A04Azo"
      },
      "outputs": [],
      "source": [
        "# Step 1: Load the Dataset from Parquet File\n",
        "\n",
        "from google.colab import drive\n",
        "drive.mount('/content/drive')\n",
        "\n",
        "file_path = \"/content/drive/My Drive/DSC 288R/Combined_Flights_2018.parquet\"\n",
        "\n",
        "flight_data = pd.read_parquet(file_path)\n",
        "print(flight_data.head())"
      ]
    },
    {
      "cell_type": "markdown",
      "source": [
        "Data Cleaning"
      ],
      "metadata": {
        "id": "zLXNSSdWWqcM"
      }
    },
    {
      "cell_type": "code",
      "execution_count": null,
      "metadata": {
        "id": "lj0SP1LQm7gh"
      },
      "outputs": [],
      "source": [
        "# Identify Missing Values\n",
        "missing_values = flight_data.isnull().sum()\n",
        "print(\"Missing Values Count:\\n\", missing_values)"
      ]
    },
    {
      "cell_type": "code",
      "execution_count": null,
      "metadata": {
        "id": "YyjWf2_lm7iw"
      },
      "outputs": [],
      "source": [
        "# Fill Missing Values Properly\n",
        "for col in flight_data.columns:\n",
        "    if flight_data[col].dtype == \"object\":  # Categorical Columns\n",
        "        flight_data.loc[:, col] = flight_data[col].fillna(flight_data[col].mode()[0])\n",
        "    else:  # Numerical Columns\n",
        "        flight_data.loc[:, col] = flight_data[col].fillna(flight_data[col].median())"
      ]
    },
    {
      "cell_type": "code",
      "execution_count": null,
      "metadata": {
        "id": "1oibvCttm7lO"
      },
      "outputs": [],
      "source": [
        "# Detect and Handle Outliers\n",
        "def cap_outliers(df, column):\n",
        "    \"\"\"\n",
        "    Cap outliers using the 99th percentile method.\n",
        "    \"\"\"\n",
        "    upper_limit = np.percentile(df[column], 99)\n",
        "    lower_limit = np.percentile(df[column], 1)\n",
        "    df[column] = np.where(df[column] > upper_limit, upper_limit, df[column])\n",
        "    df[column] = np.where(df[column] < lower_limit, lower_limit, df[column])\n",
        "\n",
        "# Apply outlier capping to numerical columns only\n",
        "numerical_cols = flight_data.select_dtypes(include=[\"int64\", \"float64\"]).columns\n",
        "for col in numerical_cols:\n",
        "    cap_outliers(flight_data, col)"
      ]
    },
    {
      "cell_type": "code",
      "source": [
        "# Remove Duplicates\n",
        "before_duplicates = flight_data.shape[0]\n",
        "flight_data.drop_duplicates(inplace=True)\n",
        "after_duplicates = flight_data.shape[0]\n",
        "\n",
        "before_duplicates, after_duplicates"
      ],
      "metadata": {
        "id": "czIarTRsvJnL"
      },
      "execution_count": null,
      "outputs": []
    },
    {
      "cell_type": "code",
      "source": [
        "print(flight_data.info())"
      ],
      "metadata": {
        "id": "jKppeOgWvJpu"
      },
      "execution_count": null,
      "outputs": []
    },
    {
      "cell_type": "code",
      "source": [
        "print(flight_data.describe())"
      ],
      "metadata": {
        "id": "rOCfmvZxvJtI"
      },
      "execution_count": null,
      "outputs": []
    },
    {
      "cell_type": "markdown",
      "source": [
        "Data Formatting"
      ],
      "metadata": {
        "id": "ldGByJltW3sS"
      }
    },
    {
      "cell_type": "code",
      "source": [
        "# Convert Columns to Appropriate Data Types\n",
        "# Convert numerical columns stored as strings to integers or floats\n",
        "for col in flight_data.columns:\n",
        "    if flight_data[col].dtype == \"object\":  # Check if column is string-based\n",
        "        try:\n",
        "            flight_data[col] = pd.to_numeric(flight_data[col])  # Convert to numeric\n",
        "        except ValueError:\n",
        "            pass  # Skip if conversion is not possible (e.g., non-numeric text columns)"
      ],
      "metadata": {
        "id": "XNa2YSSbw_RT"
      },
      "execution_count": null,
      "outputs": []
    },
    {
      "cell_type": "code",
      "source": [
        "# Standardize Date Formatting\n",
        "date_columns = [\"FlightDate\"]  # Update with actual date column names in your dataset\n",
        "\n",
        "for col in date_columns:\n",
        "    flight_data[col] = pd.to_datetime(flight_data[col], errors=\"coerce\")  # Convert to datetime format"
      ],
      "metadata": {
        "id": "oxwDTCVRw_TR"
      },
      "execution_count": null,
      "outputs": []
    },
    {
      "cell_type": "code",
      "source": [
        "print(flight_data.dtypes)"
      ],
      "metadata": {
        "id": "9cP74z_Cw_aZ"
      },
      "execution_count": null,
      "outputs": []
    },
    {
      "cell_type": "markdown",
      "source": [
        "Data Aggregation"
      ],
      "metadata": {
        "id": "A4_cDMLNW-wS"
      }
    },
    {
      "cell_type": "code",
      "execution_count": null,
      "metadata": {
        "id": "GzwRk9Vnm7vQ"
      },
      "outputs": [],
      "source": [
        "# Summarization - Creating Summary Statistics\n",
        "summary_statistics = flight_data.describe()\n",
        "\n",
        "# Grouping - Organizing Data into Groups Based on Airline and Month\n",
        "grouped_data = flight_data.groupby([\"Marketing_Airline_Network\", \"Month\"]).agg({\n",
        "    \"DepDelayMinutes\": [\"mean\", \"median\", \"sum\"],\n",
        "    \"ArrDelayMinutes\": [\"mean\", \"median\", \"sum\"],\n",
        "    \"Distance\": [\"mean\", \"sum\"]\n",
        "}).reset_index()\n",
        "\n",
        "grouped_data.head()"
      ]
    },
    {
      "cell_type": "markdown",
      "source": [
        "Data Discretization"
      ],
      "metadata": {
        "id": "FLtT4TGqXCta"
      }
    },
    {
      "cell_type": "code",
      "source": [
        "# Binning Departure Delay into Categories: On-time, Moderate Delay, Severe Delay\n",
        "flight_data[\"DepDelayCategory\"] = pd.cut(\n",
        "    flight_data[\"DepDelayMinutes\"],\n",
        "    bins=[-10, 0, 15, 300],  # Define custom bins\n",
        "    labels=[\"On-time\", \"Moderate Delay\", \"Severe Delay\"]\n",
        ")\n",
        "\n",
        "# Binning Distance into Short, Medium, and Long Flights\n",
        "flight_data[\"DistanceCategory\"] = pd.cut(\n",
        "    flight_data[\"Distance\"],\n",
        "    bins=[0, 500, 1500, 3000],\n",
        "    labels=[\"Short\", \"Medium\", \"Long\"]\n",
        ")"
      ],
      "metadata": {
        "id": "d5G_hyoCI5KS"
      },
      "execution_count": null,
      "outputs": []
    },
    {
      "cell_type": "markdown",
      "source": [
        "Data Enrichment"
      ],
      "metadata": {
        "id": "muMgUM1IXINp"
      }
    },
    {
      "cell_type": "code",
      "source": [
        "# Creating Time of Day Feature from Scheduled Departure Time\n",
        "def get_time_of_day(dep_time):\n",
        "    if dep_time < 600:\n",
        "        return \"Early Morning\"\n",
        "    elif dep_time < 1200:\n",
        "        return \"Morning\"\n",
        "    elif dep_time < 1800:\n",
        "        return \"Afternoon\"\n",
        "    else:\n",
        "        return \"Evening\"\n",
        "\n",
        "flight_data[\"TimeOfDay\"] = flight_data[\"CRSDepTime\"].apply(get_time_of_day)"
      ],
      "metadata": {
        "id": "DK_yq8J2I5M4"
      },
      "execution_count": null,
      "outputs": []
    },
    {
      "cell_type": "markdown",
      "source": [
        "EDA"
      ],
      "metadata": {
        "id": "711MJxjrZKxp"
      }
    },
    {
      "cell_type": "markdown",
      "source": [
        "Descriptive Statistics"
      ],
      "metadata": {
        "id": "EjBNVX8jZVZ3"
      }
    },
    {
      "cell_type": "code",
      "source": [
        "print(flight_data.describe())"
      ],
      "metadata": {
        "id": "cNRgbDT5I5Pl"
      },
      "execution_count": null,
      "outputs": []
    },
    {
      "cell_type": "code",
      "source": [
        "# Distribution of Departure Delays\n",
        "plt.figure(figsize=(8, 6))\n",
        "sns.histplot(flight_data[\"DepDelayMinutes\"], bins=50, kde=True, color=\"blue\")\n",
        "plt.title(\"Distribution of Departure Delays\")\n",
        "plt.xlabel(\"Minutes Delayed\")\n",
        "plt.ylabel(\"Frequency\")\n",
        "plt.show()"
      ],
      "metadata": {
        "id": "8OubxET23XWK"
      },
      "execution_count": null,
      "outputs": []
    },
    {
      "cell_type": "code",
      "source": [
        "# Distribution of Flight Distance\n",
        "plt.figure(figsize=(8, 6))\n",
        "sns.histplot(flight_data[\"Distance\"], bins=10, kde=True, color=\"blue\")\n",
        "plt.title(\"Distribution of Flight Distance\")\n",
        "plt.xlabel(\"Distance\")\n",
        "plt.ylabel(\"Frequency\")\n",
        "plt.show()"
      ],
      "metadata": {
        "id": "kO8gCqlrd2Yl"
      },
      "execution_count": null,
      "outputs": []
    },
    {
      "cell_type": "code",
      "source": [
        "# Boxplot for Outlier Detection\n",
        "plt.figure(figsize=(8, 6))\n",
        "sns.boxplot(x=flight_data[\"DepDelayMinutes\"], color=\"red\")\n",
        "plt.title(\"Boxplot of Departure Delays\")\n",
        "plt.xlabel(\"Minutes Delayed\")\n",
        "plt.show()"
      ],
      "metadata": {
        "id": "cXqMfv0N3XYt"
      },
      "execution_count": null,
      "outputs": []
    },
    {
      "cell_type": "markdown",
      "source": [
        "Bivariate Analysis"
      ],
      "metadata": {
        "id": "0ZgoRI1JZoFM"
      }
    },
    {
      "cell_type": "code",
      "source": [
        "# Correlation Heatmap\n",
        "plt.figure(figsize=(10, 8))\n",
        "sns.heatmap(flight_data[[\"DepDelayMinutes\", \"ArrDelayMinutes\", \"Distance\", \"AirTime\"]].corr(), annot=True, cmap=\"coolwarm\", fmt=\".2f\")\n",
        "plt.title(\"Correlation Matrix\")\n",
        "plt.show()"
      ],
      "metadata": {
        "id": "rUEMRT52PL9c"
      },
      "execution_count": null,
      "outputs": []
    },
    {
      "cell_type": "code",
      "source": [
        "# Scatterplot with Trendline\n",
        "plt.figure(figsize=(10, 6))\n",
        "\n",
        "# Scatterplot with Transparency and Trendline\n",
        "sns.regplot(\n",
        "    x=flight_data[\"DepDelayMinutes\"],\n",
        "    y=flight_data[\"ArrDelayMinutes\"],\n",
        "    scatter_kws={\"alpha\": 0.3},  # Adjust transparency to reduce clutter\n",
        "    line_kws={\"color\": \"red\"},  # Trendline color\n",
        "    lowess=True  # Smooth trendline for better pattern visualization\n",
        ")\n",
        "\n",
        "plt.title(\"Departure Delay vs Arrival Delay\", fontsize=14)\n",
        "plt.xlabel(\"Departure Delay (Minutes)\", fontsize=12)\n",
        "plt.ylabel(\"Arrival Delay (Minutes)\", fontsize=12)\n",
        "plt.grid(True, linestyle=\"--\", alpha=0.7)\n",
        "\n",
        "plt.show()"
      ],
      "metadata": {
        "id": "yCJhtbD6fBxK"
      },
      "execution_count": null,
      "outputs": []
    },
    {
      "cell_type": "markdown",
      "source": [
        "Inferential Statistics"
      ],
      "metadata": {
        "id": "Xt74c7USZ347"
      }
    },
    {
      "cell_type": "code",
      "source": [
        "# Apply categorization\n",
        "flight_data[\"TimeOfDay\"] = flight_data[\"CRSDepTime\"].apply(get_time_of_day)\n",
        "\n",
        "# Step 3: Define two groups: Morning vs Evening flights\n",
        "morning_delays = flight_data[flight_data[\"TimeOfDay\"] == \"Morning\"][\"DepDelayMinutes\"]\n",
        "evening_delays = flight_data[flight_data[\"TimeOfDay\"] == \"Evening\"][\"DepDelayMinutes\"]\n",
        "\n",
        "# Step 4: Perform the T-Test\n",
        "t_stat, p_value = ttest_ind(morning_delays, evening_delays, equal_var=False)\n",
        "\n",
        "# Step 5: Print the results\n",
        "print(f\"\\n✅ T-Test: Morning vs Evening Delays\")\n",
        "print(f\"t-statistic: {t_stat:.3f}, p-value: {p_value:.5f}\")\n",
        "\n",
        "# Interpretation\n",
        "if p_value < 0.05:\n",
        "    print(\"Statistically significant difference in delays between morning and evening flights.\")\n",
        "else:\n",
        "    print(\"No significant difference in delays between morning and evening flights.\")"
      ],
      "metadata": {
        "id": "mWqqtcdBPMCl"
      },
      "execution_count": null,
      "outputs": []
    },
    {
      "cell_type": "code",
      "source": [
        "# Apply categorization\n",
        "flight_data[\"TimeOfDay\"] = flight_data[\"CRSDepTime\"].apply(get_time_of_day)\n",
        "\n",
        "# Define Severe Delay: 1 if delay is more than 60 minutes, otherwise 0\n",
        "flight_data[\"SevereDelay\"] = (flight_data[\"DepDelayMinutes\"] > 60).astype(int)\n",
        "\n",
        "# Step 3: Create a Contingency Table\n",
        "contingency_table = pd.crosstab(flight_data[\"TimeOfDay\"], flight_data[\"SevereDelay\"])\n",
        "\n",
        "# Step 4: Perform Chi-Square Test\n",
        "chi2_stat, p_value, dof, expected = chi2_contingency(contingency_table)\n",
        "\n",
        "# Step 5: Print Results\n",
        "print(\"\\n✅ Chi-Square Test: Time of Day vs Severe Delays\")\n",
        "print(f\"Chi-Square Statistic: {chi2_stat:.3f}\")\n",
        "print(f\"Degrees of Freedom: {dof}\")\n",
        "print(f\"P-Value: {p_value:.5f}\")\n",
        "\n",
        "# Interpretation\n",
        "if p_value < 0.05:\n",
        "    print(\"Statistically significant relationship between time of day and severe delays.\")\n",
        "else:\n",
        "    print(\"No significant relationship between time of day and severe delays.\")\n",
        "\n",
        "# Step 6: Display Contingency Table\n",
        "print(\"\\n✅ Contingency Table:\\n\", contingency_table)\n"
      ],
      "metadata": {
        "id": "bcbBPrjuPMFH"
      },
      "execution_count": null,
      "outputs": []
    },
    {
      "cell_type": "markdown",
      "source": [
        "Feature Importance"
      ],
      "metadata": {
        "id": "Wk9p18hcbPs_"
      }
    },
    {
      "cell_type": "code",
      "source": [
        "# Selecting Features and Target\n",
        "features = [\"Month\", \"DayofMonth\", \"DayOfWeek\", \"CRSDepTime\", \"Distance\"]\n",
        "target = \"SevereDelay\"\n",
        "\n",
        "X_train, X_test, y_train, y_test = train_test_split(flight_data[features], flight_data[target], test_size=0.2, random_state=42)"
      ],
      "metadata": {
        "id": "nmfTqa1JPMHj"
      },
      "execution_count": null,
      "outputs": []
    },
    {
      "cell_type": "code",
      "source": [
        "# Train RandomForest to Find Feature Importance\n",
        "rf_model = RandomForestClassifier(n_estimators=100, random_state=42)\n",
        "rf_model.fit(X_train, y_train)"
      ],
      "metadata": {
        "id": "XjvItiCHPMKD"
      },
      "execution_count": null,
      "outputs": []
    },
    {
      "cell_type": "code",
      "source": [
        "# Feature Importance Visualization\n",
        "feature_importance = pd.DataFrame({\"Feature\": features, \"Importance\": rf_model.feature_importances_}).sort_values(by=\"Importance\", ascending=False)"
      ],
      "metadata": {
        "id": "V4EAy0k03Xbj"
      },
      "execution_count": null,
      "outputs": []
    },
    {
      "cell_type": "code",
      "execution_count": null,
      "metadata": {
        "id": "MmvkKZvnm7xD"
      },
      "outputs": [],
      "source": [
        "plt.figure(figsize=(10, 6))\n",
        "sns.barplot(x=\"Importance\", y=\"Feature\", data=feature_importance, palette=\"viridis\")\n",
        "plt.title(\"Feature Importance for Predicting Severe Delays\")\n",
        "plt.xlabel(\"Importance Score\")\n",
        "plt.ylabel(\"Feature\")\n",
        "plt.show()"
      ]
    },
    {
      "cell_type": "markdown",
      "source": [
        "Time Series Analysis"
      ],
      "metadata": {
        "id": "sRWe1Bo4lCIB"
      }
    },
    {
      "cell_type": "code",
      "execution_count": null,
      "metadata": {
        "id": "O7s76Jgv9-go"
      },
      "outputs": [],
      "source": [
        "flight_data[\"FlightDate\"] = pd.to_datetime(flight_data[\"FlightDate\"], format=\"%Y%m%d\")\n",
        "\n",
        "daily_delays = flight_data.groupby(\"FlightDate\")[[\"DepDelayMinutes\", \"ArrDelayMinutes\"]].mean().reset_index()"
      ]
    },
    {
      "cell_type": "code",
      "execution_count": null,
      "metadata": {
        "id": "rvZyKmnH9-jG"
      },
      "outputs": [],
      "source": [
        "plt.figure(figsize=(12, 6))\n",
        "plt.plot(daily_delays[\"FlightDate\"], daily_delays[\"DepDelayMinutes\"], label=\"Average Departure Delay\", marker=\"o\")\n",
        "plt.plot(daily_delays[\"FlightDate\"], daily_delays[\"ArrDelayMinutes\"], label=\"Average Arrival Delay\", marker=\"x\")\n",
        "plt.title(\"Time-Series of Average Flight Delays (Daily)\")\n",
        "plt.xlabel(\"Date\")\n",
        "plt.ylabel(\"Average Delay\")\n",
        "plt.legend()\n",
        "plt.grid(True)\n",
        "plt.show()"
      ]
    }
  ],
  "metadata": {
    "colab": {
      "provenance": []
    },
    "kernelspec": {
      "display_name": "Python 3",
      "name": "python3"
    },
    "language_info": {
      "name": "python"
    }
  },
  "nbformat": 4,
  "nbformat_minor": 0
}