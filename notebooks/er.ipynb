{
 "cells": [
  {
   "cell_type": "markdown",
   "metadata": {},
   "source": [
    "# EDA"
   ]
  },
  {
   "cell_type": "markdown",
   "metadata": {},
   "source": [
    "## Libraries"
   ]
  },
  {
   "cell_type": "code",
   "execution_count": 43,
   "metadata": {},
   "outputs": [],
   "source": [
    "# import numpy as np\n",
    "# import pandas as pd\n",
    "# import pyarrow.parquet as pq\n",
    "# from scipy.spatial import cKDTree"
   ]
  },
  {
   "cell_type": "markdown",
   "metadata": {},
   "source": [
    "## Code"
   ]
  },
  {
   "cell_type": "markdown",
   "metadata": {},
   "source": [
    "### Matching airlines to weather stations\n",
    "This step was completed once to generate the airport_station_key.csv, and as such was commented out"
   ]
  },
  {
   "cell_type": "code",
   "execution_count": null,
   "metadata": {},
   "outputs": [],
   "source": [
    "# # Downloaded and obtained the location of each station\n",
    "# df_station_latlon=pd.read_csv(r'ghcnd-stations.csv')\n",
    "# weather_df = df_station_latlon[['ID', 'Latitude', 'Longitude']]"
   ]
  },
  {
   "cell_type": "code",
   "execution_count": null,
   "metadata": {},
   "outputs": [],
   "source": [
    "# # Read combined parquet file and obtain a unique list of all origins and destinations\n",
    "# raw = pd.read_parquet(r'combined_data.parquet')\n",
    "# df_unique_origin = raw[['FlightDate', 'Origin']].drop_duplicates().rename(columns={'FlightDate': 'Date', 'Origin': 'Location'})\n",
    "# df_unique_dest = raw[['FlightDate', 'Dest']].drop_duplicates().rename(columns={'FlightDate': 'Date', 'Dest': 'Location'})"
   ]
  },
  {
   "cell_type": "code",
   "execution_count": null,
   "metadata": {},
   "outputs": [],
   "source": [
    "# # Combine the two DataFrames and drop the duplicates\n",
    "# df_date_location = pd.concat([df_unique_origin, df_unique_dest]).drop_duplicates()\n",
    "# airports = df_date_location[['Location']].drop_duplicates()"
   ]
  },
  {
   "cell_type": "code",
   "execution_count": null,
   "metadata": {},
   "outputs": [],
   "source": [
    "# # Get locations of airports and pull out relevant features\n",
    "# airport_locations = pd.read_csv(r'airports.dat', header=None)\n",
    "# airport_latlon = airport_locations[[1,2,3,4,6,7]].rename(columns={1:'Airport Name', 2:'City', 3:'Country', 4: 'Location', 6: 'Latitude', 7: 'Longitude'})"
   ]
  },
  {
   "cell_type": "code",
   "execution_count": null,
   "metadata": {},
   "outputs": [],
   "source": [
    "# # Merge the unique airport list found in the flight data set with the latitude and logitutde data found from the airport location data set\n",
    "# airport_latlon_complete = pd.merge(airports, airport_latlon, on='Location', how='left').sort_values('Location').reset_index(drop=True)\n",
    "# airport_df = airport_latlon_complete[['Location', 'Latitude', 'Longitude']]"
   ]
  },
  {
   "cell_type": "code",
   "execution_count": null,
   "metadata": {},
   "outputs": [],
   "source": [
    "# # Use cKDTree to merge the 2 datasets together\n",
    "\n",
    "# # Convert lat/lon to NumPy arrays\n",
    "# airport_coords = np.radians(airport_df[['Latitude', 'Longitude']].values)\n",
    "# weather_coords = np.radians(weather_df[['Latitude', 'Longitude']].values)\n",
    "\n",
    "# # Create a KD-Tree for fast nearest neighbor search\n",
    "# tree = cKDTree(weather_coords)\n",
    "\n",
    "# # Find the nearest weather station for each airport\n",
    "# distances, indices = tree.query(airport_coords, k=1)  # k=1 finds the closest station\n",
    "\n",
    "# # Extract the matched stations\n",
    "# nearest_stations = weather_df.iloc[indices].reset_index(drop=True)\n",
    "\n",
    "# # Combine results\n",
    "# airport_df[\"closest_station_name\"] = nearest_stations[\"ID\"]\n",
    "# airport_df[\"station_lat\"] = nearest_stations[\"Latitude\"]\n",
    "# airport_df[\"station_lon\"] = nearest_stations[\"Longitude\"]\n",
    "# airport_df[\"distance_km\"] = distances * 6371  # Convert radians to kilometers\n",
    "\n",
    "# # Save and display results\n",
    "# airport_df[['Airport', 'Closest_Station']].to_csv(r\"airport_station_key.csv\", index=False)"
   ]
  }
 ],
 "metadata": {
  "kernelspec": {
   "display_name": "DSC288R_Capstone",
   "language": "python",
   "name": "python3"
  },
  "language_info": {
   "codemirror_mode": {
    "name": "ipython",
    "version": 3
   },
   "file_extension": ".py",
   "mimetype": "text/x-python",
   "name": "python",
   "nbconvert_exporter": "python",
   "pygments_lexer": "ipython3",
   "version": "3.11.11"
  }
 },
 "nbformat": 4,
 "nbformat_minor": 2
}
