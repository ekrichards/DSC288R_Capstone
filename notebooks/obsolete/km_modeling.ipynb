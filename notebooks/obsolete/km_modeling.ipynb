{
 "cells": [
  {
   "cell_type": "markdown",
   "metadata": {},
   "source": [
    "# Modeling"
   ]
  },
  {
   "cell_type": "code",
   "execution_count": 1,
   "metadata": {},
   "outputs": [],
   "source": [
    "import pandas as pd\n",
    "import numpy as np\n",
    "import matplotlib.pyplot as plt\n",
    "import seaborn as sns\n",
    "import holidays\n",
    "from sklearn.preprocessing import LabelEncoder\n",
    "\n",
    "from sklearn.model_selection import train_test_split\n",
    "from sklearn.preprocessing import StandardScaler, MinMaxScaler, LabelEncoder, PolynomialFeatures\n",
    "from sklearn.feature_selection import SelectKBest, f_regression\n",
    "from sklearn.model_selection import StratifiedKFold, KFold, cross_val_score\n",
    "from sklearn.metrics import classification_report, accuracy_score, mean_absolute_error, mean_squared_error, r2_score\n",
    "\n",
    "from imblearn.over_sampling import SMOTE, RandomOverSampler\n",
    "from imblearn.under_sampling import RandomUnderSampler\n",
    "from imblearn.combine import SMOTEENN\n",
    "\n",
    "from sklearn.ensemble import RandomForestClassifier, RandomForestRegressor\n",
    "from sklearn.linear_model import LinearRegression"
   ]
  },
  {
   "cell_type": "markdown",
   "metadata": {},
   "source": [
    "Load Combined Weather/Flight Data"
   ]
  },
  {
   "cell_type": "code",
   "execution_count": 2,
   "metadata": {},
   "outputs": [],
   "source": [
    "file_path = r\"/Users/kianmohseni/Documents/DSC288R_Capstone/data/final/final_data.parquet\"\n",
    "\n",
    "df = pd.read_parquet(file_path)"
   ]
  },
  {
   "cell_type": "code",
   "execution_count": 3,
   "metadata": {},
   "outputs": [
    {
     "name": "stdout",
     "output_type": "stream",
     "text": [
      "Index(['FlightDate', 'DayOfWeek', 'Month', 'Airline', 'Origin', 'Dest',\n",
      "       'Cancelled', 'Diverted', 'DivAirportLandings', 'CRSDepTime', 'DepTime',\n",
      "       'DepDelay', 'DepDel15', 'CRSArrTime', 'ArrTime', 'ArrDelay', 'ArrDel15',\n",
      "       'AirTime', 'Distance', 'TaxiOut', 'WheelsOff', 'WheelsOn', 'TaxiIn',\n",
      "       'DelayCategory', 'AirTimeCategory', 'TimeofDay', 'Origin_PRCP',\n",
      "       'Origin_SNOW', 'Origin_SNWD', 'Origin_TMAX', 'Origin_TMIN', 'Dest_PRCP',\n",
      "       'Dest_SNOW', 'Dest_SNWD', 'Dest_TMAX', 'Dest_TMIN'],\n",
      "      dtype='object')\n"
     ]
    }
   ],
   "source": [
    "print(df.columns)"
   ]
  },
  {
   "cell_type": "code",
   "execution_count": 4,
   "metadata": {},
   "outputs": [],
   "source": [
    "df[\"AirportCongestion\"] = df.groupby([\"Origin\", \"DayOfWeek\"])[\"DepDelay\"].transform(\"count\")\n",
    "df[\"WeatherRiskScore\"] = df[\"Origin_PRCP\"] + df[\"Dest_PRCP\"] + df[\"Origin_SNOW\"] + df[\"Dest_SNOW\"] + df[\"Origin_SNWD\"] + df[\"Dest_SNWD\"]"
   ]
  },
  {
   "cell_type": "code",
   "execution_count": 5,
   "metadata": {},
   "outputs": [],
   "source": [
    "# Get U.S. Holidays dynamically\n",
    "us_holidays = holidays.US(years=[2018, 2019, 2020, 2021, 2022]) \n",
    "\n",
    "# Convert to a list of dates\n",
    "holiday_dates_dynamic = pd.to_datetime(list(us_holidays.keys()))\n",
    "\n",
    "# Create a Holiday Indicator (1 if flight is on a holiday, else 0)\n",
    "df['HolidayIndicator'] = df['FlightDate'].isin(holiday_dates_dynamic).astype(int)"
   ]
  },
  {
   "cell_type": "markdown",
   "metadata": {},
   "source": [
    "Split into Train & Test Sets"
   ]
  },
  {
   "cell_type": "code",
   "execution_count": 6,
   "metadata": {},
   "outputs": [],
   "source": [
    "# Define feature set and targets\n",
    "X = df.drop(columns=['DayOfWeek', 'DelayCategory', 'AirTime', 'Origin_PRCP',\n",
    "       'Origin_SNOW', 'Origin_SNWD', 'Dest_PRCP',\n",
    "       'Dest_SNOW', 'Dest_SNWD', 'ArrDel15', 'Airline', 'Origin', 'Dest', 'DepDelay', 'ArrDelay', 'DepDel15'])\n",
    "y_classification = df['DepDel15']\n",
    "y_regression = df['DepDelay']"
   ]
  },
  {
   "cell_type": "code",
   "execution_count": 7,
   "metadata": {},
   "outputs": [],
   "source": [
    "# Scale numerical data\n",
    "# scaler = StandardScaler()\n",
    "# X_scaled = scaler.fit_transform(X)"
   ]
  },
  {
   "cell_type": "code",
   "execution_count": 8,
   "metadata": {},
   "outputs": [],
   "source": [
    "# Drop original FlightDate column since it's not numerical\n",
    "X = X.drop(columns=['FlightDate'])"
   ]
  },
  {
   "cell_type": "code",
   "execution_count": 9,
   "metadata": {},
   "outputs": [],
   "source": [
    "# Label encode the column\n",
    "encoder = LabelEncoder()\n",
    "X['AirTimeCategory'] = encoder.fit_transform(X['AirTimeCategory'])\n",
    "X['TimeofDay'] = encoder.fit_transform(X['TimeofDay'])\n"
   ]
  },
  {
   "cell_type": "code",
   "execution_count": 10,
   "metadata": {},
   "outputs": [],
   "source": [
    "X = X.fillna(X.median())  # Fill NaN with median\n",
    "y_classification = y_classification.fillna(y_classification.median())  # Fill NaN with median\n",
    "y_regression = y_regression.fillna(y_regression.median())  # Fill NaN with median"
   ]
  },
  {
   "cell_type": "code",
   "execution_count": 11,
   "metadata": {},
   "outputs": [
    {
     "name": "stdout",
     "output_type": "stream",
     "text": [
      "Selected features: ['Cancelled', 'CRSDepTime', 'DepTime', 'CRSArrTime', 'ArrTime', 'TaxiOut', 'WheelsOff', 'WheelsOn', 'TimeofDay', 'WeatherRiskScore']\n"
     ]
    }
   ],
   "source": [
    "# Feature selection\n",
    "k = 10  # number of top features to select\n",
    "selector = SelectKBest(score_func = f_regression, k = k)\n",
    "X_selected_classification = selector.fit_transform(X, y_classification)\n",
    "\n",
    "selected_features = X.columns[selector.get_support()].tolist()\n",
    "print(\"Selected features:\", selected_features)"
   ]
  },
  {
   "cell_type": "code",
   "execution_count": 12,
   "metadata": {},
   "outputs": [
    {
     "name": "stdout",
     "output_type": "stream",
     "text": [
      "Selected features: ['Cancelled', 'CRSDepTime', 'DepTime', 'CRSArrTime', 'TaxiOut', 'WheelsOff', 'WheelsOn', 'AirTimeCategory', 'TimeofDay', 'WeatherRiskScore']\n"
     ]
    }
   ],
   "source": [
    "# Feature selection\n",
    "k = 10  # number of top features to select\n",
    "selector = SelectKBest(score_func = f_regression, k = k)\n",
    "X_selected_regression = selector.fit_transform(X, y_regression)\n",
    "\n",
    "selected_features = X.columns[selector.get_support()].tolist()\n",
    "print(\"Selected features:\", selected_features)"
   ]
  },
  {
   "cell_type": "code",
   "execution_count": 13,
   "metadata": {},
   "outputs": [],
   "source": [
    "X_train_class, X_test_class, y_train_class, y_test_class = train_test_split(X_selected_classification, y_classification, test_size=0.2, random_state=42, stratify=y_classification)\n",
    "X_train_reg, X_test_reg, y_train_reg, y_test_reg = train_test_split(X_selected_regression, y_regression, test_size=0.2, random_state=42)"
   ]
  },
  {
   "cell_type": "markdown",
   "metadata": {},
   "source": [
    "K-fold Cross Validation"
   ]
  },
  {
   "cell_type": "code",
   "execution_count": 14,
   "metadata": {},
   "outputs": [],
   "source": [
    "k = 5\n",
    "\n",
    "# Stratified K-Fold for Classification\n",
    "skf = StratifiedKFold(n_splits=k, shuffle=True, random_state=42)\n",
    "\n",
    "# Regular K-Fold for Regression\n",
    "kf = KFold(n_splits=k, shuffle=True, random_state=42)"
   ]
  },
  {
   "cell_type": "code",
   "execution_count": 15,
   "metadata": {},
   "outputs": [],
   "source": [
    "# Undersampling (RUS)\n",
    "rus = RandomUnderSampler(random_state=42)\n",
    "X_resampled_rus_class, y_resampled_rus_class = rus.fit_resample(X_selected_classification, y_classification)\n"
   ]
  },
  {
   "cell_type": "code",
   "execution_count": 16,
   "metadata": {},
   "outputs": [],
   "source": [
    "# Undersampling (RUS)\n",
    "rus = RandomUnderSampler(random_state=42)\n",
    "X_resampled_rus_reg, y_resampled_rus_reg = rus.fit_resample(X_selected_regression, y_regression)"
   ]
  },
  {
   "cell_type": "markdown",
   "metadata": {},
   "source": [
    "## Classification"
   ]
  },
  {
   "cell_type": "markdown",
   "metadata": {},
   "source": [
    "Random Forest"
   ]
  },
  {
   "cell_type": "code",
   "execution_count": 17,
   "metadata": {},
   "outputs": [],
   "source": [
    "# clf = RandomForestClassifier(random_state=42)\n",
    "# classification_scores = cross_val_score(clf, X_resampled_rus_class, y_resampled_rus_class, cv=skf, scoring='accuracy')\n",
    "# print(f\"Random Forest Classification Accuracy Scores: {classification_scores}\")\n",
    "# print(f\"Mean Accuracy: {np.mean(classification_scores):.4f}\")"
   ]
  },
  {
   "cell_type": "markdown",
   "metadata": {},
   "source": [
    "## Regression"
   ]
  },
  {
   "cell_type": "markdown",
   "metadata": {},
   "source": [
    "Linear Regression"
   ]
  },
  {
   "cell_type": "code",
   "execution_count": 18,
   "metadata": {},
   "outputs": [
    {
     "name": "stdout",
     "output_type": "stream",
     "text": [
      "Multi-Linear Regression R^2 Scores: [0.08435697 0.04317186 0.05102737 0.06589766 0.08812158]\n",
      "Mean R^2 Score: 0.0665\n"
     ]
    }
   ],
   "source": [
    "lin_reg = LinearRegression()\n",
    "regression_scores = cross_val_score(lin_reg, X_resampled_rus_reg, y_resampled_rus_reg, cv=kf, scoring='r2')\n",
    "print(f\"Multi-Linear Regression R^2 Scores: {regression_scores}\")\n",
    "print(f\"Mean R^2 Score: {np.mean(regression_scores):.4f}\")\n"
   ]
  },
  {
   "cell_type": "code",
   "execution_count": 22,
   "metadata": {},
   "outputs": [
    {
     "name": "stdout",
     "output_type": "stream",
     "text": [
      "Multi-Linear Regression (Log Transformed) R^2 Scores: [0.08616527 0.05386638 0.02599544 0.07246875 0.08038498]\n",
      "Mean R^2 Score: 0.0638\n"
     ]
    }
   ],
   "source": [
    "# Ensure no zero or negative values before log transformation\n",
    "y_log = np.log1p(y_resampled_rus_reg - y_resampled_rus_reg.min() + 1)\n",
    "\n",
    "# Handle NaN and infinite values\n",
    "y_log.replace([np.inf, -np.inf], np.nan, inplace=True)  # Convert infinities to NaN\n",
    "y_log.dropna(inplace=True)  # Drop rows with NaN\n",
    "\n",
    "# Fit linear regression model\n",
    "lin_reg = LinearRegression()\n",
    "regression_scores = cross_val_score(lin_reg, X_resampled_rus_reg, y_log, cv=kf, scoring='r2')\n",
    "\n",
    "print(f\"Multi-Linear Regression (Log Transformed) R^2 Scores: {regression_scores}\")\n",
    "print(f\"Mean R^2 Score: {np.mean(regression_scores):.4f}\")"
   ]
  },
  {
   "cell_type": "code",
   "execution_count": 24,
   "metadata": {},
   "outputs": [
    {
     "name": "stdout",
     "output_type": "stream",
     "text": [
      "Multi-Linear Regression (Square Root Transformed) R^2 Scores: [0.08780061 0.04948788 0.05124501 0.07313246 0.08661493]\n",
      "Mean R^2 Score: 0.0697\n"
     ]
    }
   ],
   "source": [
    "# Ensure all values are non-negative before sqrt transformation\n",
    "y_sqrt = np.sqrt(y_resampled_rus_reg - y_resampled_rus_reg.min() + 1)\n",
    "\n",
    "# Handle NaN and infinite values\n",
    "y_sqrt.replace([np.inf, -np.inf], np.nan, inplace=True)  # Convert infinities to NaN\n",
    "y_sqrt.dropna(inplace=True)  # Drop rows with NaN\n",
    "\n",
    "# Fit model\n",
    "lin_reg = LinearRegression()\n",
    "regression_scores = cross_val_score(lin_reg, X_resampled_rus_reg, y_sqrt, cv=kf, scoring='r2')\n",
    "\n",
    "print(f\"Multi-Linear Regression (Square Root Transformed) R^2 Scores: {regression_scores}\")\n",
    "print(f\"Mean R^2 Score: {np.mean(regression_scores):.4f}\")"
   ]
  },
  {
   "cell_type": "code",
   "execution_count": 28,
   "metadata": {},
   "outputs": [
    {
     "name": "stdout",
     "output_type": "stream",
     "text": [
      "Multi-Linear Regression (Reciprocal Transformed) R^2 Scores: [ 1.79201922e-02  1.17056279e-02 -1.04923937e-02 -6.55229890e-05\n",
      " -1.64035670e-02]\n",
      "Mean R^2 Score: 0.0005\n"
     ]
    },
    {
     "ename": "",
     "evalue": "",
     "output_type": "error",
     "traceback": [
      "\u001b[1;31mThe Kernel crashed while executing code in the current cell or a previous cell. \n",
      "\u001b[1;31mPlease review the code in the cell(s) to identify a possible cause of the failure. \n",
      "\u001b[1;31mClick <a href='https://aka.ms/vscodeJupyterKernelCrash'>here</a> for more info. \n",
      "\u001b[1;31mView Jupyter <a href='command:jupyter.viewOutput'>log</a> for further details."
     ]
    }
   ],
   "source": [
    "# Step 1: Shift values to avoid division by zero\n",
    "y_shifted = y_resampled_rus_reg.copy()\n",
    "\n",
    "# Replace zeros and small values with a small positive number\n",
    "y_shifted[y_shifted <= 1e-5] = 1e-5  \n",
    "\n",
    "# Step 2: Apply logarithm first to stabilize variance\n",
    "y_log = np.log1p(y_shifted)  # log(1 + x) prevents log(0) issues\n",
    "\n",
    "# Step 3: Apply reciprocal transformation\n",
    "y_reciprocal = 1 / y_log  # Applying reciprocal to the smoothed values\n",
    "\n",
    "# Step 4: Scale using StandardScaler (better for regression)\n",
    "scaler = StandardScaler()\n",
    "y_reciprocal_scaled = scaler.fit_transform(y_reciprocal.values.reshape(-1, 1)).flatten()\n",
    "\n",
    "# Step 5: Handle NaN and infinite values\n",
    "if np.isnan(y_reciprocal_scaled).sum() > 0 or np.isinf(y_reciprocal_scaled).sum() > 0:\n",
    "    y_reciprocal_scaled = np.nan_to_num(y_reciprocal_scaled, nan=np.median(y_reciprocal_scaled))\n",
    "\n",
    "# Fit model\n",
    "lin_reg = LinearRegression()\n",
    "regression_scores = cross_val_score(lin_reg, X_resampled_rus_reg, y_reciprocal_scaled, cv=kf, scoring='r2')\n",
    "\n",
    "print(f\"Multi-Linear Regression (Reciprocal Transformed) R^2 Scores: {regression_scores}\")\n",
    "print(f\"Mean R^2 Score: {np.mean(regression_scores):.4f}\")"
   ]
  },
  {
   "cell_type": "code",
   "execution_count": 26,
   "metadata": {},
   "outputs": [
    {
     "name": "stdout",
     "output_type": "stream",
     "text": [
      "Multi-Linear Regression (Polynomial Transformed) R^2 Scores: [0.11264245 0.04469127 0.03264506 0.07862475 0.08293496]\n",
      "Mean R^2 Score: 0.0703\n"
     ]
    }
   ],
   "source": [
    "# Create polynomial features\n",
    "poly = PolynomialFeatures(degree=2)  # Quadratic transformation\n",
    "X_poly = poly.fit_transform(X_resampled_rus_reg)\n",
    "\n",
    "# Fit model\n",
    "lin_reg = LinearRegression()\n",
    "regression_scores = cross_val_score(lin_reg, X_poly, y_resampled_rus_reg, cv=kf, scoring='r2')\n",
    "\n",
    "print(f\"Multi-Linear Regression (Polynomial Transformed) R^2 Scores: {regression_scores}\")\n",
    "print(f\"Mean R^2 Score: {np.mean(regression_scores):.4f}\")"
   ]
  },
  {
   "cell_type": "markdown",
   "metadata": {},
   "source": [
    "## Model Evaluation"
   ]
  },
  {
   "cell_type": "code",
   "execution_count": null,
   "metadata": {},
   "outputs": [],
   "source": [
    "# # Store classification results\n",
    "# classification_results = {\n",
    "#     \"Random Forest Classifier\": accuracy_score(y_test_class, y_pred_rf),\n",
    "# }\n",
    "\n",
    "# # Store regression results\n",
    "# regression_results = {\n",
    "#     \"Linear Regression\": mean_absolute_error(y_test_reg, y_pred_linreg),\n",
    "# }\n",
    "\n",
    "# print(\"\\nClassification Model Accuracy:\")\n",
    "# for model, acc in classification_results.items():\n",
    "#     print(f\"{model}: {acc:.4f}\")\n",
    "\n",
    "# print(\"\\nRegression Model Mean Absolute Error (Lower is better):\")\n",
    "# for model, mae in regression_results.items():\n",
    "#     print(f\"{model}: {mae:.2f}\")"
   ]
  }
 ],
 "metadata": {
  "kernelspec": {
   "display_name": "capstone",
   "language": "python",
   "name": "python3"
  },
  "language_info": {
   "codemirror_mode": {
    "name": "ipython",
    "version": 3
   },
   "file_extension": ".py",
   "mimetype": "text/x-python",
   "name": "python",
   "nbconvert_exporter": "python",
   "pygments_lexer": "ipython3",
   "version": "3.11.11"
  }
 },
 "nbformat": 4,
 "nbformat_minor": 2
}
