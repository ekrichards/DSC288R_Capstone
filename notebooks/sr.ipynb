{
 "cells": [
  {
   "cell_type": "code",
   "execution_count": null,
   "metadata": {},
   "outputs": [],
   "source": [
    "import pandas as pd\n",
    "import matplotlib.pyplot as plt\n",
    "import numpy as np\n",
    "from scipy.stats import fisher_exact\n",
    "import seaborn as sns\n",
    "from sklearn.preprocessing import StandardScaler"
   ]
  },
  {
   "cell_type": "code",
   "execution_count": null,
   "metadata": {},
   "outputs": [],
   "source": [
    "combined_flights_2022 = pd.read_parquet(\"Combined_Flights_2022.parquet\")\n",
    "combined_flights_2021 = pd.read_parquet(\"Combined_Flights_2021.parquet\")\n",
    "combined_flights_2020 = pd.read_parquet(\"Combined_Flights_2020.parquet\")\n",
    "combined_flights_2019 = pd.read_parquet(\"Combined_Flights_2019.parquet\")\n",
    "combined_flights_2018 = pd.read_parquet(\"Combined_Flights_2018.parquet\")"
   ]
  },
  {
   "cell_type": "code",
   "execution_count": null,
   "metadata": {},
   "outputs": [],
   "source": [
    "pattern_2018 = combined_flights_2018[[\"FlightDate\",\"Airline\", \"Month\", \"DayOfWeek\"]]\n",
    "pattern_2019 = combined_flights_2019[[\"FlightDate\",\"Airline\", \"Month\", \"DayOfWeek\"]]\n",
    "pattern_2020 = combined_flights_2020[[\"FlightDate\",\"Airline\", \"Month\", \"DayOfWeek\"]]\n",
    "pattern_2021 = combined_flights_2021[[\"FlightDate\",\"Airline\", \"Month\", \"DayOfWeek\"]]\n",
    "pattern_2022 = combined_flights_2022[[\"FlightDate\",\"Airline\", \"Month\", \"DayOfWeek\"]]"
   ]
  },
  {
   "cell_type": "code",
   "execution_count": null,
   "metadata": {},
   "outputs": [],
   "source": [
    "combined_pattern = pd.concat([pattern_2018, pattern_2019, pattern_2020, pattern_2021, pattern_2022])"
   ]
  },
  {
   "cell_type": "code",
   "execution_count": null,
   "metadata": {},
   "outputs": [],
   "source": [
    "counts_by_month = combined_pattern.groupby('Month').count()"
   ]
  },
  {
   "cell_type": "code",
   "execution_count": null,
   "metadata": {},
   "outputs": [],
   "source": [
    "counts_by_month = counts_by_month.reset_index()\n",
    "\n",
    "counts_by_month.rename(columns={'index': 'Month'}, inplace=True)\n"
   ]
  },
  {
   "cell_type": "code",
   "execution_count": null,
   "metadata": {},
   "outputs": [],
   "source": [
    "plt.bar(counts_by_month[\"Month\"], counts_by_month[\"FlightDate\"])\n",
    "plt.xticks(ticks=counts_by_month[\"Month\"], labels=counts_by_month[\"Month\"])\n",
    "plt.xlabel(\"Month\")\n",
    "plt.ylabel(\"Counts\")\n",
    "plt.title(\"Number of flights per Month from 2018-2022\")"
   ]
  },
  {
   "cell_type": "code",
   "execution_count": null,
   "metadata": {},
   "outputs": [],
   "source": [
    "counts_by_week = combined_pattern.groupby('DayOfWeek').count()\n",
    "counts_by_week = counts_by_week.reset_index()"
   ]
  },
  {
   "cell_type": "code",
   "execution_count": null,
   "metadata": {},
   "outputs": [],
   "source": [
    "plt.bar(counts_by_week[\"DayOfWeek\"], counts_by_week[\"FlightDate\"])\n",
    "plt.xlabel(\"Day of the Week\")\n",
    "plt.ylabel(\"Counts\")\n",
    "plt.title(\"Number of flights per Day of the Week from 2018-2022\")"
   ]
  },
  {
   "cell_type": "code",
   "execution_count": null,
   "metadata": {},
   "outputs": [],
   "source": [
    "combined_flights_2018['total delay'] = combined_flights_2018['DepDelayMinutes'] + combined_flights_2018['ArrDelayMinutes']\n",
    "combined_flights_2019['total delay'] = combined_flights_2019['DepDelayMinutes']+ combined_flights_2019['ArrDelayMinutes']\n",
    "combined_flights_2020['total delay'] = combined_flights_2020['DepDelayMinutes']+ combined_flights_2020['ArrDelayMinutes']\n",
    "combined_flights_2021['total delay'] = combined_flights_2021['DepDelayMinutes']+ combined_flights_2021['ArrDelayMinutes']\n",
    "combined_flights_2022['total delay'] = combined_flights_2022['DepDelayMinutes']+ combined_flights_2022['ArrDelayMinutes']"
   ]
  },
  {
   "cell_type": "code",
   "execution_count": null,
   "metadata": {},
   "outputs": [],
   "source": [
    "delay_config_2018 = combined_flights_2018[[\"FlightDate\",\"Airline\",\"total delay\"]]\n",
    "delay_config_2019 = combined_flights_2019[[\"FlightDate\",\"Airline\",\"total delay\"]]\n",
    "delay_config_2020 = combined_flights_2020[[\"FlightDate\",\"Airline\",\"total delay\"]]\n",
    "delay_config_2021 = combined_flights_2021[[\"FlightDate\",\"Airline\",\"total delay\"]]\n",
    "delay_config_2022 = combined_flights_2022[[\"FlightDate\",\"Airline\",\"total delay\"]]"
   ]
  },
  {
   "cell_type": "code",
   "execution_count": null,
   "metadata": {},
   "outputs": [],
   "source": [
    "combined_delay = pd.concat([delay_config_2018, delay_config_2019, delay_config_2020, delay_config_2021, delay_config_2022])"
   ]
  },
  {
   "cell_type": "code",
   "execution_count": null,
   "metadata": {},
   "outputs": [],
   "source": [
    "airline_counts = combined_delay.groupby('Airline').count()\n",
    "airline_counts = airline_counts.reset_index()"
   ]
  },
  {
   "cell_type": "code",
   "execution_count": null,
   "metadata": {},
   "outputs": [],
   "source": [
    "plt.bar(airline_counts[\"Airline\"], airline_counts[\"FlightDate\"])\n",
    "plt.xlabel(\"Airline\")\n",
    "plt.xticks(rotation = 90)\n",
    "plt.ylabel(\"Counts\")\n",
    "plt.title(\"Number of flights per Airline from 2018-2022\")"
   ]
  },
  {
   "cell_type": "code",
   "execution_count": null,
   "metadata": {},
   "outputs": [],
   "source": [
    "combined_delay[\"count\"] = combined_delay[\"Airline\"].map(combined_delay[\"Airline\"].value_counts())\n",
    "combined_delay[\"normalized_count\"] = (combined_delay[\"count\"] - combined_delay[\"count\"].min()) / (combined_delay[\"count\"].max() - combined_delay[\"count\"].min())\n",
    "combined_delay"
   ]
  },
  {
   "cell_type": "code",
   "execution_count": null,
   "metadata": {},
   "outputs": [],
   "source": [
    "airline_delays = combined_delay.groupby(\"Airline\").sum(numeric_only=True)[[\"total delay\", \"normalized_count\"]].reset_index()\n",
    "\n",
    "airline_delays[\"normalized_total_delay\"] = (airline_delays[\"total delay\"] - airline_delays[\"total delay\"].mean()) / \\\n",
    "                                           airline_delays[\"total delay\"].std()\n",
    "plt.figure(figsize=(7, 5))\n",
    "plt.bar(airline_delays[\"Airline\"], airline_delays[\"normalized_total_delay\"])\n",
    "\n",
    "\n",
    "plt.xlabel(\"Airlines\")\n",
    "plt.ylabel(\"Normalized Total Delay\")\n",
    "plt.xticks(rotation =90)\n",
    "plt.title(\"Normalized Total Delay Minutes by Airline\")\n",
    "\n",
    "plt.show()"
   ]
  },
  {
   "cell_type": "code",
   "execution_count": null,
   "metadata": {},
   "outputs": [],
   "source": [
    "#Fisher's Exact Test \n",
    "\n",
    "#get flightdate, cancelled, diverted \n",
    "binary_2018 = combined_flights_2018[[\"FlightDate\",\"Cancelled\", \"Diverted\"]]\n",
    "binary_2019 = combined_flights_2019[[\"FlightDate\",\"Cancelled\", \"Diverted\"]]\n",
    "binary_2020 = combined_flights_2020[[\"FlightDate\",\"Cancelled\", \"Diverted\"]]\n",
    "binary_2021 = combined_flights_2021[[\"FlightDate\",\"Cancelled\", \"Diverted\"]]\n",
    "binary_2022 = combined_flights_2022[[\"FlightDate\",\"Cancelled\", \"Diverted\"]]\n",
    "#concat \n",
    "binary_all = pd.concat([binary_2018, binary_2019, binary_2020, binary_2021, binary_2022])\n",
    "#make contingency table \n",
    "contingency_table = pd.crosstab(binary_all['Cancelled'], binary_all['Diverted'])\n",
    "#set hypothesis\n",
    "#H0 = cancelled and diverted are not independent \n",
    "#Ha cancelled and diverted are indepeneent \n",
    "#perform test\n",
    "odds_ratio, p_value = fisher_exact(contingency_table, alternative='two-sided')\n",
    "\n",
    "print(f\"Odds Ratio: {odds_ratio}\")\n",
    "print(f\"P-value: {p_value}\")\n"
   ]
  },
  {
   "cell_type": "code",
   "execution_count": null,
   "metadata": {},
   "outputs": [],
   "source": [
    "contingency_table"
   ]
  },
  {
   "cell_type": "code",
   "execution_count": null,
   "metadata": {},
   "outputs": [],
   "source": [
    "#since pvalue is less than 0.05, there is evidence to conclude that there is significant association between cancelled and diverted "
   ]
  },
  {
   "cell_type": "code",
   "execution_count": null,
   "metadata": {},
   "outputs": [],
   "source": [
    "# add flight delays bar plots\n",
    "flightdelay_2018 = combined_flights_2018[(combined_flights_2018[\"DepDelay\"] > 0) | (combined_flights_2018[\"ArrDelay\"] > 0)\n",
    "][[\"FlightDate\", \"Airline\", \"Month\", \"DayOfWeek\",\"DepDelay\", \"ArrDelay\"]]\n",
    "flightdelay_2019 = combined_flights_2019[(combined_flights_2019[\"DepDelay\"] > 0) | (combined_flights_2019[\"ArrDelay\"] > 0)\n",
    "][[\"FlightDate\", \"Airline\",\"Month\", \"DayOfWeek\", \"DepDelay\", \"ArrDelay\"]]\n",
    "flightdelay_2020 = combined_flights_2020[(combined_flights_2020[\"DepDelay\"] > 0) | (combined_flights_2020[\"ArrDelay\"] > 0)\n",
    "][[\"FlightDate\", \"Airline\",\"Month\", \"DayOfWeek\", \"DepDelay\", \"ArrDelay\"]]\n",
    "flightdelay_2021 = combined_flights_2021[(combined_flights_2021[\"DepDelay\"] > 0) | (combined_flights_2021[\"ArrDelay\"] > 0)\n",
    "][[\"FlightDate\", \"Airline\",\"Month\", \"DayOfWeek\", \"DepDelay\", \"ArrDelay\"]]\n",
    "flightdelay_2022 = combined_flights_2022[(combined_flights_2022[\"DepDelay\"] > 0) | (combined_flights_2022[\"ArrDelay\"] > 0)\n",
    "][[\"FlightDate\", \"Airline\",\"Month\", \"DayOfWeek\", \"DepDelay\", \"ArrDelay\"]]\n",
    " "
   ]
  },
  {
   "cell_type": "code",
   "execution_count": null,
   "metadata": {},
   "outputs": [],
   "source": [
    "combined_delays = pd.concat([flightdelay_2018, flightdelay_2019, flightdelay_2020, flightdelay_2021, flightdelay_2022])"
   ]
  },
  {
   "cell_type": "code",
   "execution_count": null,
   "metadata": {},
   "outputs": [],
   "source": [
    "delays_by_month = combined_delays.groupby('Month').count()\n",
    "delays_by_month = delays_by_month.reset_index()"
   ]
  },
  {
   "cell_type": "code",
   "execution_count": null,
   "metadata": {},
   "outputs": [],
   "source": [
    "delays_by_week = combined_delays.groupby('DayOfWeek').count()\n",
    "delays_by_week = delays_by_week.reset_index()"
   ]
  },
  {
   "cell_type": "code",
   "execution_count": null,
   "metadata": {},
   "outputs": [],
   "source": [
    "plt.bar(delays_by_week[\"DayOfWeek\"], delays_by_week[\"FlightDate\"])\n",
    "plt.xticks(ticks=delays_by_week[\"DayOfWeek\"], labels=delays_by_week[\"DayOfWeek\"])\n",
    "plt.xlabel(\"Day of Week\")\n",
    "plt.ylabel(\"Counts\")\n",
    "plt.title(\"Number of flight delays per Day of Week from 2018-2022\")"
   ]
  }
 ],
 "metadata": {
  "kernelspec": {
   "display_name": "capstone",
   "language": "python",
   "name": "python3"
  },
  "language_info": {
   "name": "python",
   "version": "3.11.11"
  }
 },
 "nbformat": 4,
 "nbformat_minor": 2
}
